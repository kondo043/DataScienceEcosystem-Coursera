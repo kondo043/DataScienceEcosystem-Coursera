{
  "metadata": {
    "kernelspec": {
      "name": "python",
      "display_name": "Python (Pyodide)",
      "language": "python"
    },
    "language_info": {
      "codemirror_mode": {
        "name": "python",
        "version": 3
      },
      "file_extension": ".py",
      "mimetype": "text/x-python",
      "name": "python",
      "nbconvert_exporter": "python",
      "pygments_lexer": "ipython3",
      "version": "3.8"
    }
  },
  "nbformat_minor": 5,
  "nbformat": 4,
  "cells": [
    {
      "id": "b445c5bc-1909-41c8-bbbf-620dc9f50f84",
      "cell_type": "markdown",
      "source": "# Data Science Tools and Ecosystem",
      "metadata": {}
    },
    {
      "id": "513b6dae-2387-4052-bcb7-067c8b8a729e",
      "cell_type": "markdown",
      "source": "In this notebook, Data Science Tools and Ecosystem are summarized.",
      "metadata": {}
    },
    {
      "id": "8986eb54-b13d-4b85-bfd8-a976a44d8fee",
      "cell_type": "markdown",
      "source": "Some of the popular languages that Data Scientists use are:\n1. python\n2. R Language\n3. SQl language",
      "metadata": {}
    },
    {
      "id": "8f10d231-9b02-4f5d-a11c-36c4df91169f",
      "cell_type": "markdown",
      "source": "Some of the commonly used libraries used by Data Scientists include:\n1. numpy\n2. pandas\n3. seaborn\n4. matplotlib\n5. ggplot\n6. caret",
      "metadata": {}
    },
    {
      "id": "cf107ba0-f4a5-4bc4-b918-4ca5e915204b",
      "cell_type": "markdown",
      "source": "| Data Science Tools          |\n|-----------------------------|\n| Jupyter Notebook            |\n| RStudio                     |\n| Apache Zeppelin             |",
      "metadata": {}
    },
    {
      "id": "2b5deb2e-64c7-4c6d-aa03-088971b9dc00",
      "cell_type": "markdown",
      "source": "### Below are a few examples of evaluating arithmetic expressions in Python",
      "metadata": {}
    },
    {
      "id": "cf2e8f89-c133-4b22-881c-ed734054c3fc",
      "cell_type": "code",
      "source": "# This is a simple arithmetic expression to multiply then add integers\nresult = (3 * 4) + 5\nresult\n",
      "metadata": {
        "trusted": true
      },
      "outputs": [
        {
          "execution_count": 9,
          "output_type": "execute_result",
          "data": {
            "text/plain": "17"
          },
          "metadata": {}
        }
      ],
      "execution_count": 9
    },
    {
      "id": "c5fbe384-bf78-419f-a56d-93f3d7244423",
      "cell_type": "code",
      "source": "# This will convert 200 minutes to hours by dividing by 60\nhours = 200 / 60\nhours\n",
      "metadata": {
        "trusted": true
      },
      "outputs": [
        {
          "execution_count": 10,
          "output_type": "execute_result",
          "data": {
            "text/plain": "3.3333333333333335"
          },
          "metadata": {}
        }
      ],
      "execution_count": 10
    },
    {
      "id": "62fe45ca-a0f0-4c98-ab16-628c6015739f",
      "cell_type": "markdown",
      "source": "**Objectives:**\n- List popular languages for Data Science\n- List commonly used libraries in Data Science\n- Show examples of arithmetic operations\n- Show how to convert minutes to hours",
      "metadata": {}
    },
    {
      "id": "b3509ae7-59e3-460b-817d-ce596b95352d",
      "cell_type": "markdown",
      "source": "## Author\nAditya Bagus Prabowo",
      "metadata": {}
    },
    {
      "id": "c66444ce-b763-428b-8edd-3df903576535",
      "cell_type": "code",
      "source": "",
      "metadata": {
        "trusted": true
      },
      "outputs": [],
      "execution_count": null
    }
  ]
}